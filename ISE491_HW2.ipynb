{
  "nbformat": 4,
  "nbformat_minor": 0,
  "metadata": {
    "colab": {
      "provenance": [],
      "authorship_tag": "ABX9TyOjhubTgZARKdByIA98yJ/t",
      "include_colab_link": true
    },
    "kernelspec": {
      "name": "python3",
      "display_name": "Python 3"
    },
    "language_info": {
      "name": "python"
    }
  },
  "cells": [
    {
      "cell_type": "markdown",
      "metadata": {
        "id": "view-in-github",
        "colab_type": "text"
      },
      "source": [
        "<a href=\"https://colab.research.google.com/github/Khaled-Ageel/ISE-491/blob/main/ISE491_HW2.ipynb\" target=\"_parent\"><img src=\"https://colab.research.google.com/assets/colab-badge.svg\" alt=\"Open In Colab\"/></a>"
      ]
    },
    {
      "cell_type": "code",
      "execution_count": 2,
      "metadata": {
        "colab": {
          "base_uri": "https://localhost:8080/"
        },
        "id": "XlzJKvvj2NyJ",
        "outputId": "ac367f31-750b-4e55-e89f-f5eadae63cac"
      },
      "outputs": [
        {
          "output_type": "stream",
          "name": "stdout",
          "text": [
            "Collecting pyswarms\n",
            "  Downloading pyswarms-1.3.0-py2.py3-none-any.whl.metadata (33 kB)\n",
            "Requirement already satisfied: scipy in /usr/local/lib/python3.11/dist-packages (from pyswarms) (1.14.1)\n",
            "Requirement already satisfied: numpy in /usr/local/lib/python3.11/dist-packages (from pyswarms) (2.0.2)\n",
            "Requirement already satisfied: matplotlib>=1.3.1 in /usr/local/lib/python3.11/dist-packages (from pyswarms) (3.10.0)\n",
            "Requirement already satisfied: attrs in /usr/local/lib/python3.11/dist-packages (from pyswarms) (25.3.0)\n",
            "Requirement already satisfied: tqdm in /usr/local/lib/python3.11/dist-packages (from pyswarms) (4.67.1)\n",
            "Requirement already satisfied: future in /usr/local/lib/python3.11/dist-packages (from pyswarms) (1.0.0)\n",
            "Requirement already satisfied: pyyaml in /usr/local/lib/python3.11/dist-packages (from pyswarms) (6.0.2)\n",
            "Requirement already satisfied: contourpy>=1.0.1 in /usr/local/lib/python3.11/dist-packages (from matplotlib>=1.3.1->pyswarms) (1.3.2)\n",
            "Requirement already satisfied: cycler>=0.10 in /usr/local/lib/python3.11/dist-packages (from matplotlib>=1.3.1->pyswarms) (0.12.1)\n",
            "Requirement already satisfied: fonttools>=4.22.0 in /usr/local/lib/python3.11/dist-packages (from matplotlib>=1.3.1->pyswarms) (4.57.0)\n",
            "Requirement already satisfied: kiwisolver>=1.3.1 in /usr/local/lib/python3.11/dist-packages (from matplotlib>=1.3.1->pyswarms) (1.4.8)\n",
            "Requirement already satisfied: packaging>=20.0 in /usr/local/lib/python3.11/dist-packages (from matplotlib>=1.3.1->pyswarms) (24.2)\n",
            "Requirement already satisfied: pillow>=8 in /usr/local/lib/python3.11/dist-packages (from matplotlib>=1.3.1->pyswarms) (11.1.0)\n",
            "Requirement already satisfied: pyparsing>=2.3.1 in /usr/local/lib/python3.11/dist-packages (from matplotlib>=1.3.1->pyswarms) (3.2.3)\n",
            "Requirement already satisfied: python-dateutil>=2.7 in /usr/local/lib/python3.11/dist-packages (from matplotlib>=1.3.1->pyswarms) (2.8.2)\n",
            "Requirement already satisfied: six>=1.5 in /usr/local/lib/python3.11/dist-packages (from python-dateutil>=2.7->matplotlib>=1.3.1->pyswarms) (1.17.0)\n",
            "Downloading pyswarms-1.3.0-py2.py3-none-any.whl (104 kB)\n",
            "\u001b[?25l   \u001b[90m━━━━━━━━━━━━━━━━━━━━━━━━━━━━━━━━━━━━━━━━\u001b[0m \u001b[32m0.0/104.1 kB\u001b[0m \u001b[31m?\u001b[0m eta \u001b[36m-:--:--\u001b[0m\r\u001b[2K   \u001b[90m━━━━━━━━━━━━━━━━━━━━━━━━━━━━━━━━━━━━━━━━\u001b[0m \u001b[32m104.1/104.1 kB\u001b[0m \u001b[31m7.5 MB/s\u001b[0m eta \u001b[36m0:00:00\u001b[0m\n",
            "\u001b[?25hInstalling collected packages: pyswarms\n",
            "Successfully installed pyswarms-1.3.0\n",
            "\n",
            "Best Cost (Minimized Labor Cost): 1114.8902665875191\n",
            "\n",
            "Best Schedule:\n",
            "Full-Time Hours: [4.58906828 3.23032293 2.19279346 1.47957182 1.00447603]\n",
            "Overtime Hours: [1.11819317 0.58943241 1.33120662 0.93993902 0.85074903]\n",
            "Part-Time Hours: [3.15537115 0.81883095 5.42190803 1.04306114 2.44513177]\n"
          ]
        }
      ],
      "source": [
        "# ISE 491 - Assignment 2: Workforce Scheduling using PSO\n",
        "# Khaled Ageel : 202026940\n",
        "# Part II – Workforce Scheduling Optimization using PSO\n",
        "!pip install pyswarms\n",
        "import numpy as np\n",
        "import pyswarms as ps\n",
        "\n",
        "# Define the cost function\n",
        "def labor_cost(x):\n",
        "    # Variables split into three parts: full-time (5), full-time overtime (5), part-time (5)\n",
        "    full_time = x[:5]\n",
        "    overtime = x[5:10]\n",
        "    part_time = x[10:]\n",
        "\n",
        "    # Full-time hourly rates\n",
        "    c_full = np.array([30, 35, 40, 45, 50])\n",
        "    # Overtime rates (1.5x full-time)\n",
        "    c_overtime = c_full * 1.5\n",
        "    # Part-time rates\n",
        "    c_part = np.array([25, 27, 29, 31, 33])\n",
        "\n",
        "    # Total cost\n",
        "    cost = np.dot(c_full, full_time) + np.dot(c_overtime, overtime) + np.dot(c_part, part_time)\n",
        "\n",
        "    # Penalty for constraint violations\n",
        "    penalty = 0\n",
        "    if (np.sum(full_time) + np.sum(overtime)) < 4:\n",
        "        penalty += 1000 * (4 - (np.sum(full_time) + np.sum(overtime)))\n",
        "    if np.sum(part_time) < 2:\n",
        "        penalty += 1000 * (2 - np.sum(part_time))\n",
        "\n",
        "    return cost + penalty\n",
        "\n",
        "# Vectorized version for PSO\n",
        "def fitness(X):\n",
        "    return np.array([labor_cost(x) for x in X])\n",
        "\n",
        "# Problem setup\n",
        "n_dimensions = 15  # 5 full-time, 5 overtime, 5 part-time\n",
        "bounds_lower = [0] * n_dimensions\n",
        "bounds_upper = [8] * n_dimensions  # max 8 hours per operator\n",
        "bounds = (np.array(bounds_lower), np.array(bounds_upper))\n",
        "\n",
        "# PSO options\n",
        "options = {'c1': 1.5, 'c2': 1.5, 'w': 0.6}\n",
        "\n",
        "# Initialize optimizer\n",
        "optimizer = ps.single.GlobalBestPSO(n_particles=30, dimensions=n_dimensions, options=options, bounds=bounds)\n",
        "\n",
        "# Run optimization\n",
        "best_cost, best_pos = optimizer.optimize(fitness, iters=100, verbose=False)\n",
        "\n",
        "# Output results\n",
        "print(\"\\nBest Cost (Minimized Labor Cost):\", best_cost)\n",
        "print(\"\\nBest Schedule:\")\n",
        "print(\"Full-Time Hours:\", best_pos[:5])\n",
        "print(\"Overtime Hours:\", best_pos[5:10])\n",
        "print(\"Part-Time Hours:\", best_pos[10:])"
      ]
    }
  ]
}